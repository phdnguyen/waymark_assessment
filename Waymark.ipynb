{
 "cells": [
  {
   "cell_type": "code",
   "execution_count": 1,
   "id": "e59dbae9-8822-4496-a214-0e775a86314d",
   "metadata": {},
   "outputs": [],
   "source": [
    "import pandas as pd\n",
    "import boto3\n",
    "import io\n",
    "import datetime"
   ]
  },
  {
   "cell_type": "markdown",
   "id": "3b1e7d4e-b7b6-45ab-95b7-df75f3c0a0c9",
   "metadata": {},
   "source": [
    "# Step 1"
   ]
  },
  {
   "cell_type": "markdown",
   "id": "d5e0ffc9-51ac-4a9b-84cd-986839a6861e",
   "metadata": {},
   "source": [
    "## Load patient_id_month_year"
   ]
  },
  {
   "cell_type": "code",
   "execution_count": 5,
   "id": "b92d5645-3885-4ca7-bb72-6cebb9703c65",
   "metadata": {},
   "outputs": [
    {
     "name": "stderr",
     "output_type": "stream",
     "text": [
      "/var/folders/v8/s4lwxw8s6wxbkhy0gqkmypnc0000gn/T/ipykernel_61053/568008719.py:17: DtypeWarning: Columns (0,1) have mixed types. Specify dtype option on import or set low_memory=False.\n",
      "  patient_id_month_year = pd.read_csv(io.StringIO(file_content))\n"
     ]
    }
   ],
   "source": [
    "bucket_name = 'waymark-assignment'\n",
    "object_key = 'patient_id_month_year.csv'\n",
    "aws_access_key_id = AWS_ACCESS_KEY_ID\n",
    "aws_secret_access_key = AWS_SECRET_ACCESS_KEY\n",
    "\n",
    "s3 = boto3.client(\n",
    "    's3',\n",
    "    aws_access_key_id=aws_access_key_id,\n",
    "    aws_secret_access_key=aws_secret_access_key\n",
    ")\n",
    "\n",
    "# Fetch the file from the S3 bucket\n",
    "obj = s3.get_object(Bucket=bucket_name, Key=object_key)\n",
    "file_content = obj['Body'].read().decode('utf-8')\n",
    "\n",
    "# Load the CSV content into a DataFrame\n",
    "patient_id_month_year = pd.read_csv(io.StringIO(file_content))"
   ]
  },
  {
   "cell_type": "code",
   "execution_count": 3,
   "id": "7a0c0763-c3f6-43de-b57f-e6396adecc6c",
   "metadata": {},
   "outputs": [
    {
     "data": {
      "text/html": [
       "<div>\n",
       "<style scoped>\n",
       "    .dataframe tbody tr th:only-of-type {\n",
       "        vertical-align: middle;\n",
       "    }\n",
       "\n",
       "    .dataframe tbody tr th {\n",
       "        vertical-align: top;\n",
       "    }\n",
       "\n",
       "    .dataframe thead th {\n",
       "        text-align: right;\n",
       "    }\n",
       "</style>\n",
       "<table border=\"1\" class=\"dataframe\">\n",
       "  <thead>\n",
       "    <tr style=\"text-align: right;\">\n",
       "      <th></th>\n",
       "      <th>patient_id</th>\n",
       "      <th>month_year</th>\n",
       "      <th>Unnamed: 2</th>\n",
       "    </tr>\n",
       "  </thead>\n",
       "  <tbody>\n",
       "    <tr>\n",
       "      <th>0</th>\n",
       "      <td>ID0001</td>\n",
       "      <td>1/1/23</td>\n",
       "      <td>NaN</td>\n",
       "    </tr>\n",
       "    <tr>\n",
       "      <th>1</th>\n",
       "      <td>ID0001</td>\n",
       "      <td>2/1/23</td>\n",
       "      <td>NaN</td>\n",
       "    </tr>\n",
       "    <tr>\n",
       "      <th>2</th>\n",
       "      <td>ID0001</td>\n",
       "      <td>3/1/23</td>\n",
       "      <td>NaN</td>\n",
       "    </tr>\n",
       "    <tr>\n",
       "      <th>3</th>\n",
       "      <td>ID0001</td>\n",
       "      <td>6/1/23</td>\n",
       "      <td>NaN</td>\n",
       "    </tr>\n",
       "    <tr>\n",
       "      <th>4</th>\n",
       "      <td>ID0001</td>\n",
       "      <td>8/1/23</td>\n",
       "      <td>NaN</td>\n",
       "    </tr>\n",
       "    <tr>\n",
       "      <th>...</th>\n",
       "      <td>...</td>\n",
       "      <td>...</td>\n",
       "      <td>...</td>\n",
       "    </tr>\n",
       "    <tr>\n",
       "      <th>1047121</th>\n",
       "      <td>NaN</td>\n",
       "      <td>NaN</td>\n",
       "      <td>NaN</td>\n",
       "    </tr>\n",
       "    <tr>\n",
       "      <th>1047122</th>\n",
       "      <td>NaN</td>\n",
       "      <td>NaN</td>\n",
       "      <td>NaN</td>\n",
       "    </tr>\n",
       "    <tr>\n",
       "      <th>1047123</th>\n",
       "      <td>NaN</td>\n",
       "      <td>NaN</td>\n",
       "      <td>NaN</td>\n",
       "    </tr>\n",
       "    <tr>\n",
       "      <th>1047124</th>\n",
       "      <td>NaN</td>\n",
       "      <td>NaN</td>\n",
       "      <td>NaN</td>\n",
       "    </tr>\n",
       "    <tr>\n",
       "      <th>1047125</th>\n",
       "      <td>NaN</td>\n",
       "      <td>NaN</td>\n",
       "      <td>NaN</td>\n",
       "    </tr>\n",
       "  </tbody>\n",
       "</table>\n",
       "<p>1047126 rows × 3 columns</p>\n",
       "</div>"
      ],
      "text/plain": [
       "        patient_id month_year  Unnamed: 2\n",
       "0           ID0001     1/1/23         NaN\n",
       "1           ID0001     2/1/23         NaN\n",
       "2           ID0001     3/1/23         NaN\n",
       "3           ID0001     6/1/23         NaN\n",
       "4           ID0001     8/1/23         NaN\n",
       "...            ...        ...         ...\n",
       "1047121        NaN        NaN         NaN\n",
       "1047122        NaN        NaN         NaN\n",
       "1047123        NaN        NaN         NaN\n",
       "1047124        NaN        NaN         NaN\n",
       "1047125        NaN        NaN         NaN\n",
       "\n",
       "[1047126 rows x 3 columns]"
      ]
     },
     "execution_count": 3,
     "metadata": {},
     "output_type": "execute_result"
    }
   ],
   "source": [
    "patient_id_month_year"
   ]
  },
  {
   "cell_type": "markdown",
   "id": "fcdcbc05-b949-41dd-9fe7-7ba4164a48a0",
   "metadata": {},
   "source": [
    "## Clean data"
   ]
  },
  {
   "cell_type": "code",
   "execution_count": 4,
   "id": "3c10363b-9cac-4ade-9f57-f3129d714bad",
   "metadata": {},
   "outputs": [],
   "source": [
    "patient_id_month_year = patient_id_month_year[['patient_id','month_year']]\n",
    "patient_id_month_year = patient_id_month_year[~patient_id_month_year.patient_id.isna()] #remove all NULL patient_id rows\n",
    "patient_id_month_year['month_year'] = pd.to_datetime(patient_id_month_year['month_year'], format='%m/%d/%y')"
   ]
  },
  {
   "cell_type": "markdown",
   "id": "46926769-b259-4313-85c0-c98257ba9079",
   "metadata": {},
   "source": [
    "## Transform month_year into enrollment periods"
   ]
  },
  {
   "cell_type": "code",
   "execution_count": 5,
   "id": "62e20229-2268-4ac7-89ca-8e622ceba888",
   "metadata": {},
   "outputs": [],
   "source": [
    "to_append = [] #use a list to append enrollment periods for each patient then concatenate at the end for all patients\n",
    "\n",
    "for patient_id in patient_id_month_year.patient_id.unique():\n",
    "\n",
    "    #sort by dates just in case\n",
    "    df = patient_id_month_year[patient_id_month_year.patient_id==patient_id].sort_values(by='month_year',ascending=True)\n",
    "\n",
    "    \n",
    "    # find the difference in days between the i and i+1 rows\n",
    "    df['diff'] = df['month_year'].diff().dt.days\n",
    "    \n",
    "    # a gap is defined to be >31 day difference (i.e. more than a month)\n",
    "    df['gap'] = df['diff'] > 31\n",
    "\n",
    "    # assign a group number for each enrollment period\n",
    "    df['group'] = df['gap'].cumsum()\n",
    "\n",
    "    # group by each \"group\" to get the first and last month of each enrollment period\n",
    "    continuous_enrollments = df.groupby('group').agg(enrollment_start_date=('month_year', 'first'),\n",
    "                                                     enrollment_end_date=('month_year', 'last')\n",
    "                                                    ).reset_index(drop=True)\n",
    "    \n",
    "    continuous_enrollments['patient_id'] =  patient_id\n",
    "\n",
    "    # offset to get the month end date for enrollment\n",
    "    continuous_enrollments['enrollment_end_date'] = continuous_enrollments['enrollment_end_date'] + pd.offsets.MonthEnd(0)\n",
    "\n",
    "    to_append.append(continuous_enrollments[['patient_id','enrollment_start_date','enrollment_end_date']])\n",
    "    \n",
    "patient_enrollment_plan = pd.concat(to_append)\n",
    "patient_enrollment_plan.reset_index(drop=True, inplace=True)"
   ]
  },
  {
   "cell_type": "code",
   "execution_count": 6,
   "id": "5c17c1f6-02f7-45cd-88f0-3bbb88939407",
   "metadata": {},
   "outputs": [
    {
     "data": {
      "text/html": [
       "<div>\n",
       "<style scoped>\n",
       "    .dataframe tbody tr th:only-of-type {\n",
       "        vertical-align: middle;\n",
       "    }\n",
       "\n",
       "    .dataframe tbody tr th {\n",
       "        vertical-align: top;\n",
       "    }\n",
       "\n",
       "    .dataframe thead th {\n",
       "        text-align: right;\n",
       "    }\n",
       "</style>\n",
       "<table border=\"1\" class=\"dataframe\">\n",
       "  <thead>\n",
       "    <tr style=\"text-align: right;\">\n",
       "      <th></th>\n",
       "      <th>patient_id</th>\n",
       "      <th>enrollment_start_date</th>\n",
       "      <th>enrollment_end_date</th>\n",
       "    </tr>\n",
       "  </thead>\n",
       "  <tbody>\n",
       "    <tr>\n",
       "      <th>0</th>\n",
       "      <td>ID0001</td>\n",
       "      <td>2023-01-01</td>\n",
       "      <td>2023-03-31</td>\n",
       "    </tr>\n",
       "    <tr>\n",
       "      <th>1</th>\n",
       "      <td>ID0001</td>\n",
       "      <td>2023-06-01</td>\n",
       "      <td>2023-06-30</td>\n",
       "    </tr>\n",
       "    <tr>\n",
       "      <th>2</th>\n",
       "      <td>ID0001</td>\n",
       "      <td>2023-08-01</td>\n",
       "      <td>2023-08-31</td>\n",
       "    </tr>\n",
       "    <tr>\n",
       "      <th>3</th>\n",
       "      <td>ID0001</td>\n",
       "      <td>2023-11-01</td>\n",
       "      <td>2023-12-31</td>\n",
       "    </tr>\n",
       "    <tr>\n",
       "      <th>4</th>\n",
       "      <td>ID0002</td>\n",
       "      <td>2023-02-01</td>\n",
       "      <td>2023-04-30</td>\n",
       "    </tr>\n",
       "  </tbody>\n",
       "</table>\n",
       "</div>"
      ],
      "text/plain": [
       "  patient_id enrollment_start_date enrollment_end_date\n",
       "0     ID0001            2023-01-01          2023-03-31\n",
       "1     ID0001            2023-06-01          2023-06-30\n",
       "2     ID0001            2023-08-01          2023-08-31\n",
       "3     ID0001            2023-11-01          2023-12-31\n",
       "4     ID0002            2023-02-01          2023-04-30"
      ]
     },
     "execution_count": 6,
     "metadata": {},
     "output_type": "execute_result"
    }
   ],
   "source": [
    "patient_enrollment_plan.head()"
   ]
  },
  {
   "cell_type": "markdown",
   "id": "cfa30fa8-1a75-4d72-be6e-b64e4aebda61",
   "metadata": {},
   "source": [
    "## Answer 1: Report the number of rows in patient_enrollment_span.csv"
   ]
  },
  {
   "cell_type": "code",
   "execution_count": 7,
   "id": "114dae0a-ecee-4b64-ab1a-9c9203945478",
   "metadata": {},
   "outputs": [
    {
     "data": {
      "text/plain": [
       "3105"
      ]
     },
     "execution_count": 7,
     "metadata": {},
     "output_type": "execute_result"
    }
   ],
   "source": [
    "len(patient_enrollment_plan)"
   ]
  },
  {
   "cell_type": "markdown",
   "id": "f5802f35-8c5b-4852-8e15-f56e89ecf283",
   "metadata": {},
   "source": [
    "# Step 2: Data Aggregation"
   ]
  },
  {
   "cell_type": "markdown",
   "id": "01746ceb-de2f-444b-8277-f27597563f23",
   "metadata": {},
   "source": [
    "## Load outpatient_visits"
   ]
  },
  {
   "cell_type": "code",
   "execution_count": 8,
   "id": "a114fbf2-16d9-4d72-b839-93d279a00f58",
   "metadata": {},
   "outputs": [
    {
     "name": "stderr",
     "output_type": "stream",
     "text": [
      "/var/folders/v8/s4lwxw8s6wxbkhy0gqkmypnc0000gn/T/ipykernel_59174/4288309250.py:17: DtypeWarning: Columns (0,1) have mixed types. Specify dtype option on import or set low_memory=False.\n",
      "  outpatient_visits= pd.read_csv(io.StringIO(file_content))\n"
     ]
    }
   ],
   "source": [
    "bucket_name = 'waymark-assignment'\n",
    "object_key = 'outpatient_visits_file.csv'\n",
    "aws_access_key_id = AWS_ACCESS_KEY_ID\n",
    "aws_secret_access_key = AWS_SECRET_ACCESS_KEY\n",
    "\n",
    "s3 = boto3.client(\n",
    "    's3',\n",
    "    aws_access_key_id=aws_access_key_id,\n",
    "    aws_secret_access_key=aws_secret_access_key\n",
    ")\n",
    "\n",
    "# Fetch the file from the S3 bucket\n",
    "obj = s3.get_object(Bucket=bucket_name, Key=object_key)\n",
    "file_content = obj['Body'].read().decode('utf-8')\n",
    "\n",
    "# Load the CSV content into a DataFrame\n",
    "outpatient_visits= pd.read_csv(io.StringIO(file_content))"
   ]
  },
  {
   "cell_type": "code",
   "execution_count": 9,
   "id": "5a4ccfc3-7164-43e5-b987-348618dfe087",
   "metadata": {},
   "outputs": [
    {
     "data": {
      "text/html": [
       "<div>\n",
       "<style scoped>\n",
       "    .dataframe tbody tr th:only-of-type {\n",
       "        vertical-align: middle;\n",
       "    }\n",
       "\n",
       "    .dataframe tbody tr th {\n",
       "        vertical-align: top;\n",
       "    }\n",
       "\n",
       "    .dataframe thead th {\n",
       "        text-align: right;\n",
       "    }\n",
       "</style>\n",
       "<table border=\"1\" class=\"dataframe\">\n",
       "  <thead>\n",
       "    <tr style=\"text-align: right;\">\n",
       "      <th></th>\n",
       "      <th>patient_id</th>\n",
       "      <th>date</th>\n",
       "      <th>outpatient_visit_count</th>\n",
       "      <th>Unnamed: 3</th>\n",
       "      <th>Unnamed: 4</th>\n",
       "      <th>Unnamed: 5</th>\n",
       "      <th>Unnamed: 6</th>\n",
       "      <th>Unnamed: 7</th>\n",
       "    </tr>\n",
       "  </thead>\n",
       "  <tbody>\n",
       "    <tr>\n",
       "      <th>0</th>\n",
       "      <td>ID0001</td>\n",
       "      <td>1/3/23</td>\n",
       "      <td>2.0</td>\n",
       "      <td>NaN</td>\n",
       "      <td>NaN</td>\n",
       "      <td>NaN</td>\n",
       "      <td>NaN</td>\n",
       "      <td>NaN</td>\n",
       "    </tr>\n",
       "    <tr>\n",
       "      <th>1</th>\n",
       "      <td>ID0001</td>\n",
       "      <td>1/8/23</td>\n",
       "      <td>2.0</td>\n",
       "      <td>NaN</td>\n",
       "      <td>NaN</td>\n",
       "      <td>NaN</td>\n",
       "      <td>NaN</td>\n",
       "      <td>NaN</td>\n",
       "    </tr>\n",
       "    <tr>\n",
       "      <th>2</th>\n",
       "      <td>ID0001</td>\n",
       "      <td>1/9/23</td>\n",
       "      <td>2.0</td>\n",
       "      <td>NaN</td>\n",
       "      <td>NaN</td>\n",
       "      <td>NaN</td>\n",
       "      <td>NaN</td>\n",
       "      <td>NaN</td>\n",
       "    </tr>\n",
       "    <tr>\n",
       "      <th>3</th>\n",
       "      <td>ID0001</td>\n",
       "      <td>1/15/23</td>\n",
       "      <td>2.0</td>\n",
       "      <td>NaN</td>\n",
       "      <td>NaN</td>\n",
       "      <td>NaN</td>\n",
       "      <td>NaN</td>\n",
       "      <td>NaN</td>\n",
       "    </tr>\n",
       "    <tr>\n",
       "      <th>4</th>\n",
       "      <td>ID0001</td>\n",
       "      <td>1/21/23</td>\n",
       "      <td>4.0</td>\n",
       "      <td>NaN</td>\n",
       "      <td>NaN</td>\n",
       "      <td>NaN</td>\n",
       "      <td>NaN</td>\n",
       "      <td>NaN</td>\n",
       "    </tr>\n",
       "    <tr>\n",
       "      <th>...</th>\n",
       "      <td>...</td>\n",
       "      <td>...</td>\n",
       "      <td>...</td>\n",
       "      <td>...</td>\n",
       "      <td>...</td>\n",
       "      <td>...</td>\n",
       "      <td>...</td>\n",
       "      <td>...</td>\n",
       "    </tr>\n",
       "    <tr>\n",
       "      <th>1043900</th>\n",
       "      <td>NaN</td>\n",
       "      <td>NaN</td>\n",
       "      <td>NaN</td>\n",
       "      <td>NaN</td>\n",
       "      <td>NaN</td>\n",
       "      <td>NaN</td>\n",
       "      <td>NaN</td>\n",
       "      <td>NaN</td>\n",
       "    </tr>\n",
       "    <tr>\n",
       "      <th>1043901</th>\n",
       "      <td>NaN</td>\n",
       "      <td>NaN</td>\n",
       "      <td>NaN</td>\n",
       "      <td>NaN</td>\n",
       "      <td>NaN</td>\n",
       "      <td>NaN</td>\n",
       "      <td>NaN</td>\n",
       "      <td>NaN</td>\n",
       "    </tr>\n",
       "    <tr>\n",
       "      <th>1043902</th>\n",
       "      <td>NaN</td>\n",
       "      <td>NaN</td>\n",
       "      <td>NaN</td>\n",
       "      <td>NaN</td>\n",
       "      <td>NaN</td>\n",
       "      <td>NaN</td>\n",
       "      <td>NaN</td>\n",
       "      <td>NaN</td>\n",
       "    </tr>\n",
       "    <tr>\n",
       "      <th>1043903</th>\n",
       "      <td>NaN</td>\n",
       "      <td>NaN</td>\n",
       "      <td>NaN</td>\n",
       "      <td>NaN</td>\n",
       "      <td>NaN</td>\n",
       "      <td>NaN</td>\n",
       "      <td>NaN</td>\n",
       "      <td>NaN</td>\n",
       "    </tr>\n",
       "    <tr>\n",
       "      <th>1043904</th>\n",
       "      <td>NaN</td>\n",
       "      <td>NaN</td>\n",
       "      <td>NaN</td>\n",
       "      <td>NaN</td>\n",
       "      <td>NaN</td>\n",
       "      <td>NaN</td>\n",
       "      <td>NaN</td>\n",
       "      <td>NaN</td>\n",
       "    </tr>\n",
       "  </tbody>\n",
       "</table>\n",
       "<p>1043905 rows × 8 columns</p>\n",
       "</div>"
      ],
      "text/plain": [
       "        patient_id     date  outpatient_visit_count  Unnamed: 3  Unnamed: 4  \\\n",
       "0           ID0001   1/3/23                     2.0         NaN         NaN   \n",
       "1           ID0001   1/8/23                     2.0         NaN         NaN   \n",
       "2           ID0001   1/9/23                     2.0         NaN         NaN   \n",
       "3           ID0001  1/15/23                     2.0         NaN         NaN   \n",
       "4           ID0001  1/21/23                     4.0         NaN         NaN   \n",
       "...            ...      ...                     ...         ...         ...   \n",
       "1043900        NaN      NaN                     NaN         NaN         NaN   \n",
       "1043901        NaN      NaN                     NaN         NaN         NaN   \n",
       "1043902        NaN      NaN                     NaN         NaN         NaN   \n",
       "1043903        NaN      NaN                     NaN         NaN         NaN   \n",
       "1043904        NaN      NaN                     NaN         NaN         NaN   \n",
       "\n",
       "         Unnamed: 5  Unnamed: 6  Unnamed: 7  \n",
       "0               NaN         NaN         NaN  \n",
       "1               NaN         NaN         NaN  \n",
       "2               NaN         NaN         NaN  \n",
       "3               NaN         NaN         NaN  \n",
       "4               NaN         NaN         NaN  \n",
       "...             ...         ...         ...  \n",
       "1043900         NaN         NaN         NaN  \n",
       "1043901         NaN         NaN         NaN  \n",
       "1043902         NaN         NaN         NaN  \n",
       "1043903         NaN         NaN         NaN  \n",
       "1043904         NaN         NaN         NaN  \n",
       "\n",
       "[1043905 rows x 8 columns]"
      ]
     },
     "execution_count": 9,
     "metadata": {},
     "output_type": "execute_result"
    }
   ],
   "source": [
    "outpatient_visits"
   ]
  },
  {
   "cell_type": "markdown",
   "id": "aef1e99f-9cd5-4f2b-aa8e-6eaadf570b29",
   "metadata": {},
   "source": [
    "## Clean data"
   ]
  },
  {
   "cell_type": "code",
   "execution_count": 10,
   "id": "e99ca9f8-8c8d-411f-a241-212085ef79c7",
   "metadata": {},
   "outputs": [],
   "source": [
    "outpatient_visits = outpatient_visits[['patient_id','date','outpatient_visit_count']]\n",
    "outpatient_visits = outpatient_visits[~outpatient_visits.patient_id.isna()] #remove all NULL patient_id rows\n",
    "outpatient_visits['date'] = pd.to_datetime(outpatient_visits['date'], format='%m/%d/%y')"
   ]
  },
  {
   "cell_type": "markdown",
   "id": "140297fb-ec66-44c3-8250-e88f1c894365",
   "metadata": {},
   "source": [
    "## Merge patient_enrollment_plan with outpatient_visits"
   ]
  },
  {
   "cell_type": "code",
   "execution_count": 11,
   "id": "b991453c-8c01-4528-8551-a5b2b3144eed",
   "metadata": {},
   "outputs": [],
   "source": [
    "result = patient_enrollment_plan.merge(outpatient_visits,how='left',on='patient_id')\n",
    "\n",
    "# turn NULL from outpatient_visit_count into 0, but keeping the NULL for date (for counting the number of days with visits later)\n",
    "result['outpatient_visit_count'] = result['outpatient_visit_count'].fillna(0)\n",
    "result['outpatient_visit_count'] = result['outpatient_visit_count'].astype(int)"
   ]
  },
  {
   "cell_type": "code",
   "execution_count": 12,
   "id": "38c99182-3dc3-481e-9bb5-54fc23b9c16a",
   "metadata": {},
   "outputs": [],
   "source": [
    "# keep only dates that falls within their designated enrollment period, and NULL dates \n",
    "\n",
    "result = result[((result.date>=result.enrollment_start_date) & (result.date<=result.enrollment_end_date)) | result.date.isna()]"
   ]
  },
  {
   "cell_type": "code",
   "execution_count": 13,
   "id": "77c770a6-d4b7-40a9-a69b-4b98ca87cfc1",
   "metadata": {},
   "outputs": [
    {
     "data": {
      "text/html": [
       "<div>\n",
       "<style scoped>\n",
       "    .dataframe tbody tr th:only-of-type {\n",
       "        vertical-align: middle;\n",
       "    }\n",
       "\n",
       "    .dataframe tbody tr th {\n",
       "        vertical-align: top;\n",
       "    }\n",
       "\n",
       "    .dataframe thead th {\n",
       "        text-align: right;\n",
       "    }\n",
       "</style>\n",
       "<table border=\"1\" class=\"dataframe\">\n",
       "  <thead>\n",
       "    <tr style=\"text-align: right;\">\n",
       "      <th></th>\n",
       "      <th>patient_id</th>\n",
       "      <th>enrollment_start_date</th>\n",
       "      <th>enrollment_end_date</th>\n",
       "      <th>date</th>\n",
       "      <th>outpatient_visit_count</th>\n",
       "    </tr>\n",
       "  </thead>\n",
       "  <tbody>\n",
       "    <tr>\n",
       "      <th>0</th>\n",
       "      <td>ID0001</td>\n",
       "      <td>2023-01-01</td>\n",
       "      <td>2023-03-31</td>\n",
       "      <td>2023-01-03</td>\n",
       "      <td>2</td>\n",
       "    </tr>\n",
       "    <tr>\n",
       "      <th>1</th>\n",
       "      <td>ID0001</td>\n",
       "      <td>2023-01-01</td>\n",
       "      <td>2023-03-31</td>\n",
       "      <td>2023-01-08</td>\n",
       "      <td>2</td>\n",
       "    </tr>\n",
       "    <tr>\n",
       "      <th>2</th>\n",
       "      <td>ID0001</td>\n",
       "      <td>2023-01-01</td>\n",
       "      <td>2023-03-31</td>\n",
       "      <td>2023-01-09</td>\n",
       "      <td>2</td>\n",
       "    </tr>\n",
       "    <tr>\n",
       "      <th>3</th>\n",
       "      <td>ID0001</td>\n",
       "      <td>2023-01-01</td>\n",
       "      <td>2023-03-31</td>\n",
       "      <td>2023-01-15</td>\n",
       "      <td>2</td>\n",
       "    </tr>\n",
       "    <tr>\n",
       "      <th>4</th>\n",
       "      <td>ID0001</td>\n",
       "      <td>2023-01-01</td>\n",
       "      <td>2023-03-31</td>\n",
       "      <td>2023-01-21</td>\n",
       "      <td>4</td>\n",
       "    </tr>\n",
       "  </tbody>\n",
       "</table>\n",
       "</div>"
      ],
      "text/plain": [
       "  patient_id enrollment_start_date enrollment_end_date       date  \\\n",
       "0     ID0001            2023-01-01          2023-03-31 2023-01-03   \n",
       "1     ID0001            2023-01-01          2023-03-31 2023-01-08   \n",
       "2     ID0001            2023-01-01          2023-03-31 2023-01-09   \n",
       "3     ID0001            2023-01-01          2023-03-31 2023-01-15   \n",
       "4     ID0001            2023-01-01          2023-03-31 2023-01-21   \n",
       "\n",
       "   outpatient_visit_count  \n",
       "0                       2  \n",
       "1                       2  \n",
       "2                       2  \n",
       "3                       2  \n",
       "4                       4  "
      ]
     },
     "execution_count": 13,
     "metadata": {},
     "output_type": "execute_result"
    }
   ],
   "source": [
    "result.head()"
   ]
  },
  {
   "cell_type": "markdown",
   "id": "2fab68d6-c672-4349-a04b-ada5948c8913",
   "metadata": {},
   "source": [
    "## Aggregate"
   ]
  },
  {
   "cell_type": "code",
   "execution_count": 14,
   "id": "dd60b117-1081-405f-8683-0287eab3c8c8",
   "metadata": {},
   "outputs": [],
   "source": [
    "# Sum the visit counts in the same enrollment period, and count unique days with visit in the same enrollment period (for each patient)\n",
    "\n",
    "result = result.groupby(['patient_id','enrollment_start_date','enrollment_end_date']).agg(ct_outpatient_visits=('outpatient_visit_count','sum'),\n",
    "                                                                                        ct_days_with_outpatient_visit=('date','nunique'),\n",
    "                                                                                       ).reset_index()\n"
   ]
  },
  {
   "cell_type": "code",
   "execution_count": 15,
   "id": "bd7c7df3-a3bd-4106-a827-52db239f3ee7",
   "metadata": {},
   "outputs": [
    {
     "data": {
      "text/html": [
       "<div>\n",
       "<style scoped>\n",
       "    .dataframe tbody tr th:only-of-type {\n",
       "        vertical-align: middle;\n",
       "    }\n",
       "\n",
       "    .dataframe tbody tr th {\n",
       "        vertical-align: top;\n",
       "    }\n",
       "\n",
       "    .dataframe thead th {\n",
       "        text-align: right;\n",
       "    }\n",
       "</style>\n",
       "<table border=\"1\" class=\"dataframe\">\n",
       "  <thead>\n",
       "    <tr style=\"text-align: right;\">\n",
       "      <th></th>\n",
       "      <th>patient_id</th>\n",
       "      <th>enrollment_start_date</th>\n",
       "      <th>enrollment_end_date</th>\n",
       "      <th>ct_outpatient_visits</th>\n",
       "      <th>ct_days_with_outpatient_visit</th>\n",
       "    </tr>\n",
       "  </thead>\n",
       "  <tbody>\n",
       "    <tr>\n",
       "      <th>0</th>\n",
       "      <td>ID0001</td>\n",
       "      <td>2023-01-01</td>\n",
       "      <td>2023-03-31</td>\n",
       "      <td>17</td>\n",
       "      <td>8</td>\n",
       "    </tr>\n",
       "    <tr>\n",
       "      <th>1</th>\n",
       "      <td>ID0001</td>\n",
       "      <td>2023-06-01</td>\n",
       "      <td>2023-06-30</td>\n",
       "      <td>6</td>\n",
       "      <td>2</td>\n",
       "    </tr>\n",
       "    <tr>\n",
       "      <th>2</th>\n",
       "      <td>ID0001</td>\n",
       "      <td>2023-08-01</td>\n",
       "      <td>2023-08-31</td>\n",
       "      <td>6</td>\n",
       "      <td>2</td>\n",
       "    </tr>\n",
       "    <tr>\n",
       "      <th>3</th>\n",
       "      <td>ID0001</td>\n",
       "      <td>2023-11-01</td>\n",
       "      <td>2023-12-31</td>\n",
       "      <td>5</td>\n",
       "      <td>3</td>\n",
       "    </tr>\n",
       "    <tr>\n",
       "      <th>4</th>\n",
       "      <td>ID0002</td>\n",
       "      <td>2023-02-01</td>\n",
       "      <td>2023-04-30</td>\n",
       "      <td>19</td>\n",
       "      <td>7</td>\n",
       "    </tr>\n",
       "  </tbody>\n",
       "</table>\n",
       "</div>"
      ],
      "text/plain": [
       "  patient_id enrollment_start_date enrollment_end_date  ct_outpatient_visits  \\\n",
       "0     ID0001            2023-01-01          2023-03-31                    17   \n",
       "1     ID0001            2023-06-01          2023-06-30                     6   \n",
       "2     ID0001            2023-08-01          2023-08-31                     6   \n",
       "3     ID0001            2023-11-01          2023-12-31                     5   \n",
       "4     ID0002            2023-02-01          2023-04-30                    19   \n",
       "\n",
       "   ct_days_with_outpatient_visit  \n",
       "0                              8  \n",
       "1                              2  \n",
       "2                              2  \n",
       "3                              3  \n",
       "4                              7  "
      ]
     },
     "execution_count": 15,
     "metadata": {},
     "output_type": "execute_result"
    }
   ],
   "source": [
    "result.head()"
   ]
  },
  {
   "cell_type": "markdown",
   "id": "64446fb7-1c05-4b68-b93b-22f3a5bb0740",
   "metadata": {},
   "source": [
    "## Answer 2: Report the number of distinct values of ct_days_with_outpatient_visit in result.csv"
   ]
  },
  {
   "cell_type": "code",
   "execution_count": 16,
   "id": "52609524-d552-4376-aa3a-a4af49cd5202",
   "metadata": {},
   "outputs": [
    {
     "data": {
      "text/plain": [
       "33"
      ]
     },
     "execution_count": 16,
     "metadata": {},
     "output_type": "execute_result"
    }
   ],
   "source": [
    "result['ct_days_with_outpatient_visit'].nunique()"
   ]
  }
 ],
 "metadata": {
  "kernelspec": {
   "display_name": "Python 3 (ipykernel)",
   "language": "python",
   "name": "python3"
  },
  "language_info": {
   "codemirror_mode": {
    "name": "ipython",
    "version": 3
   },
   "file_extension": ".py",
   "mimetype": "text/x-python",
   "name": "python",
   "nbconvert_exporter": "python",
   "pygments_lexer": "ipython3",
   "version": "3.12.4"
  }
 },
 "nbformat": 4,
 "nbformat_minor": 5
}
